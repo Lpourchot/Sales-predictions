{
 "cells": [
  {
   "cell_type": "code",
   "execution_count": 455,
   "metadata": {},
   "outputs": [],
   "source": [
    "from statsmodels.tsa.statespace.sarimax import SARIMAX\n",
    "from sklearn.metrics import mean_squared_error\n",
    "from pmdarima.arima import auto_arima\n",
    "import statsmodels.api as sm\n",
    "from statsmodels.tsa.stattools import adfuller\n",
    "import pandas as pd\n",
    "import numpy as np\n",
    "import matplotlib.pyplot as plt\n",
    "import seaborn as sns\n",
    "from sklearn.preprocessing import MinMaxScaler\n",
    "\n",
    "%matplotlib inline\n",
    "#!pip install pmdarima"
   ]
  },
  {
   "cell_type": "markdown",
   "metadata": {},
   "source": [
    "<br><h1> Sales Predictions <h1>"
   ]
  },
  {
   "cell_type": "code",
   "execution_count": 383,
   "metadata": {},
   "outputs": [],
   "source": [
    "df=pd.read_csv(\"train1.csv\",sep=';')"
   ]
  },
  {
   "cell_type": "code",
   "execution_count": 384,
   "metadata": {},
   "outputs": [
    {
     "data": {
      "text/plain": [
       "(48, 3)"
      ]
     },
     "metadata": {},
     "output_type": "display_data"
    },
    {
     "data": {
      "text/html": [
       "<div>\n",
       "<style scoped>\n",
       "    .dataframe tbody tr th:only-of-type {\n",
       "        vertical-align: middle;\n",
       "    }\n",
       "\n",
       "    .dataframe tbody tr th {\n",
       "        vertical-align: top;\n",
       "    }\n",
       "\n",
       "    .dataframe thead th {\n",
       "        text-align: right;\n",
       "    }\n",
       "</style>\n",
       "<table border=\"1\" class=\"dataframe\">\n",
       "  <thead>\n",
       "    <tr style=\"text-align: right;\">\n",
       "      <th></th>\n",
       "      <th>Date</th>\n",
       "      <th>Sales</th>\n",
       "      <th>Marketing_Expense</th>\n",
       "    </tr>\n",
       "  </thead>\n",
       "  <tbody>\n",
       "    <tr>\n",
       "      <th>0</th>\n",
       "      <td>2011-01-01</td>\n",
       "      <td>100</td>\n",
       "      <td>130</td>\n",
       "    </tr>\n",
       "    <tr>\n",
       "      <th>1</th>\n",
       "      <td>2011-02-01</td>\n",
       "      <td>110</td>\n",
       "      <td>133</td>\n",
       "    </tr>\n",
       "    <tr>\n",
       "      <th>2</th>\n",
       "      <td>2011-03-01</td>\n",
       "      <td>121</td>\n",
       "      <td>113</td>\n",
       "    </tr>\n",
       "    <tr>\n",
       "      <th>3</th>\n",
       "      <td>2011-04-01</td>\n",
       "      <td>109</td>\n",
       "      <td>133</td>\n",
       "    </tr>\n",
       "    <tr>\n",
       "      <th>4</th>\n",
       "      <td>2011-05-01</td>\n",
       "      <td>120</td>\n",
       "      <td>151</td>\n",
       "    </tr>\n",
       "  </tbody>\n",
       "</table>\n",
       "</div>"
      ],
      "text/plain": [
       "         Date  Sales  Marketing_Expense\n",
       "0  2011-01-01    100                130\n",
       "1  2011-02-01    110                133\n",
       "2  2011-03-01    121                113\n",
       "3  2011-04-01    109                133\n",
       "4  2011-05-01    120                151"
      ]
     },
     "metadata": {},
     "output_type": "display_data"
    },
    {
     "name": "stdout",
     "output_type": "stream",
     "text": [
      "<class 'pandas.core.frame.DataFrame'>\n",
      "RangeIndex: 48 entries, 0 to 47\n",
      "Data columns (total 3 columns):\n",
      " #   Column             Non-Null Count  Dtype \n",
      "---  ------             --------------  ----- \n",
      " 0   Date               48 non-null     object\n",
      " 1   Sales              48 non-null     int64 \n",
      " 2   Marketing_Expense  48 non-null     int64 \n",
      "dtypes: int64(2), object(1)\n",
      "memory usage: 1.2+ KB\n"
     ]
    },
    {
     "data": {
      "text/plain": [
       "None"
      ]
     },
     "metadata": {},
     "output_type": "display_data"
    },
    {
     "data": {
      "text/html": [
       "<div>\n",
       "<style scoped>\n",
       "    .dataframe tbody tr th:only-of-type {\n",
       "        vertical-align: middle;\n",
       "    }\n",
       "\n",
       "    .dataframe tbody tr th {\n",
       "        vertical-align: top;\n",
       "    }\n",
       "\n",
       "    .dataframe thead th {\n",
       "        text-align: right;\n",
       "    }\n",
       "</style>\n",
       "<table border=\"1\" class=\"dataframe\">\n",
       "  <thead>\n",
       "    <tr style=\"text-align: right;\">\n",
       "      <th></th>\n",
       "      <th>Sales</th>\n",
       "      <th>Marketing_Expense</th>\n",
       "    </tr>\n",
       "  </thead>\n",
       "  <tbody>\n",
       "    <tr>\n",
       "      <th>count</th>\n",
       "      <td>48.000000</td>\n",
       "      <td>48.000000</td>\n",
       "    </tr>\n",
       "    <tr>\n",
       "      <th>mean</th>\n",
       "      <td>183.812500</td>\n",
       "      <td>197.520833</td>\n",
       "    </tr>\n",
       "    <tr>\n",
       "      <th>std</th>\n",
       "      <td>59.042594</td>\n",
       "      <td>60.830070</td>\n",
       "    </tr>\n",
       "    <tr>\n",
       "      <th>min</th>\n",
       "      <td>99.000000</td>\n",
       "      <td>112.000000</td>\n",
       "    </tr>\n",
       "    <tr>\n",
       "      <th>25%</th>\n",
       "      <td>136.750000</td>\n",
       "      <td>145.750000</td>\n",
       "    </tr>\n",
       "    <tr>\n",
       "      <th>50%</th>\n",
       "      <td>173.000000</td>\n",
       "      <td>182.500000</td>\n",
       "    </tr>\n",
       "    <tr>\n",
       "      <th>75%</th>\n",
       "      <td>221.000000</td>\n",
       "      <td>232.250000</td>\n",
       "    </tr>\n",
       "    <tr>\n",
       "      <th>max</th>\n",
       "      <td>320.000000</td>\n",
       "      <td>333.000000</td>\n",
       "    </tr>\n",
       "  </tbody>\n",
       "</table>\n",
       "</div>"
      ],
      "text/plain": [
       "            Sales  Marketing_Expense\n",
       "count   48.000000          48.000000\n",
       "mean   183.812500         197.520833\n",
       "std     59.042594          60.830070\n",
       "min     99.000000         112.000000\n",
       "25%    136.750000         145.750000\n",
       "50%    173.000000         182.500000\n",
       "75%    221.000000         232.250000\n",
       "max    320.000000         333.000000"
      ]
     },
     "metadata": {},
     "output_type": "display_data"
    }
   ],
   "source": [
    "display(df.shape)\n",
    "display(df.head())\n",
    "display(df.info())\n",
    "display(df.describe())"
   ]
  },
  {
   "cell_type": "code",
   "execution_count": 385,
   "metadata": {},
   "outputs": [],
   "source": [
    "df['Date'] = pd.to_datetime(df['Date'])\n",
    "df.index=df['Date']\n",
    "df=df.drop(['Date'],axis=1)"
   ]
  },
  {
   "cell_type": "markdown",
   "metadata": {},
   "source": [
    "<br><h3> Sales evolution (history) for predictions<h3>"
   ]
  },
  {
   "cell_type": "code",
   "execution_count": 386,
   "metadata": {},
   "outputs": [
    {
     "data": {
      "image/png": "[encoded data removed]",
      "text/plain": [
       "<Figure size 1440x360 with 1 Axes>"
      ]
     },
     "metadata": {
      "needs_background": "light"
     },
     "output_type": "display_data"
    }
   ],
   "source": [
    "\n",
    "fig, ax = plt.subplots(figsize=(20, 5))\n",
    "\n",
    "\n",
    "ax.plot(df.index.values,\n",
    "        df['Sales'],\n",
    "        color='purple')\n",
    "\n",
    "\n",
    "ax.set(xlabel=\"Date\",\n",
    "       ylabel=\"Sales\",\n",
    "       title=\"Sales\")\n",
    "\n",
    "plt.show()\n"
   ]
  },
  {
   "cell_type": "markdown",
   "metadata": {},
   "source": [
    "\n",
    "<br><h3> create (in history) the target value = the sales prediction for the next month<h3>"
   ]
  },
  {
   "cell_type": "code",
   "execution_count": 387,
   "metadata": {},
   "outputs": [
    {
     "data": {
      "text/html": [
       "<div>\n",
       "<style scoped>\n",
       "    .dataframe tbody tr th:only-of-type {\n",
       "        vertical-align: middle;\n",
       "    }\n",
       "\n",
       "    .dataframe tbody tr th {\n",
       "        vertical-align: top;\n",
       "    }\n",
       "\n",
       "    .dataframe thead th {\n",
       "        text-align: right;\n",
       "    }\n",
       "</style>\n",
       "<table border=\"1\" class=\"dataframe\">\n",
       "  <thead>\n",
       "    <tr style=\"text-align: right;\">\n",
       "      <th></th>\n",
       "      <th>Sales</th>\n",
       "      <th>Marketing_Expense</th>\n",
       "      <th>target_sales</th>\n",
       "    </tr>\n",
       "    <tr>\n",
       "      <th>Date</th>\n",
       "      <th></th>\n",
       "      <th></th>\n",
       "      <th></th>\n",
       "    </tr>\n",
       "  </thead>\n",
       "  <tbody>\n",
       "    <tr>\n",
       "      <th>2011-01-01</th>\n",
       "      <td>100</td>\n",
       "      <td>130</td>\n",
       "      <td>110.0</td>\n",
       "    </tr>\n",
       "    <tr>\n",
       "      <th>2011-02-01</th>\n",
       "      <td>110</td>\n",
       "      <td>133</td>\n",
       "      <td>121.0</td>\n",
       "    </tr>\n",
       "    <tr>\n",
       "      <th>2011-03-01</th>\n",
       "      <td>121</td>\n",
       "      <td>113</td>\n",
       "      <td>109.0</td>\n",
       "    </tr>\n",
       "    <tr>\n",
       "      <th>2011-04-01</th>\n",
       "      <td>109</td>\n",
       "      <td>133</td>\n",
       "      <td>120.0</td>\n",
       "    </tr>\n",
       "    <tr>\n",
       "      <th>2011-05-01</th>\n",
       "      <td>120</td>\n",
       "      <td>151</td>\n",
       "      <td>138.0</td>\n",
       "    </tr>\n",
       "  </tbody>\n",
       "</table>\n",
       "</div>"
      ],
      "text/plain": [
       "            Sales  Marketing_Expense  target_sales\n",
       "Date                                              \n",
       "2011-01-01    100                130         110.0\n",
       "2011-02-01    110                133         121.0\n",
       "2011-03-01    121                113         109.0\n",
       "2011-04-01    109                133         120.0\n",
       "2011-05-01    120                151         138.0"
      ]
     },
     "execution_count": 387,
     "metadata": {},
     "output_type": "execute_result"
    }
   ],
   "source": [
    "steps=-1\n",
    "df = df.copy()\n",
    "df['target_sales'] = df['Sales'].shift(steps)\n",
    "df.head()\n"
   ]
  },
  {
   "cell_type": "markdown",
   "metadata": {},
   "source": [
    "<br><h3> Normalization of the data<h3>"
   ]
  },
  {
   "cell_type": "code",
   "execution_count": 389,
   "metadata": {},
   "outputs": [],
   "source": [
    "sc = MinMaxScaler(feature_range=(0,1))\n",
    "sc_in = sc.fit_transform(df[['Sales','Marketing_Expense']])\n",
    "sc_in = pd.DataFrame(sc_in)\n",
    "X = sc_in\n",
    "X.index = df.index\n"
   ]
  },
  {
   "cell_type": "code",
   "execution_count": 390,
   "metadata": {},
   "outputs": [],
   "source": [
    "sc_out = sc.fit_transform(df[ ['target_sales']])\n",
    "y = pd.DataFrame(sc_out)\n",
    "y.index = df.index\n"
   ]
  },
  {
   "cell_type": "code",
   "execution_count": 391,
   "metadata": {},
   "outputs": [
    {
     "data": {
      "text/html": [
       "<div>\n",
       "<style scoped>\n",
       "    .dataframe tbody tr th:only-of-type {\n",
       "        vertical-align: middle;\n",
       "    }\n",
       "\n",
       "    .dataframe tbody tr th {\n",
       "        vertical-align: top;\n",
       "    }\n",
       "\n",
       "    .dataframe thead th {\n",
       "        text-align: right;\n",
       "    }\n",
       "</style>\n",
       "<table border=\"1\" class=\"dataframe\">\n",
       "  <thead>\n",
       "    <tr style=\"text-align: right;\">\n",
       "      <th></th>\n",
       "      <th>Sales</th>\n",
       "      <th>Marketing_Expense</th>\n",
       "    </tr>\n",
       "    <tr>\n",
       "      <th>Date</th>\n",
       "      <th></th>\n",
       "      <th></th>\n",
       "    </tr>\n",
       "  </thead>\n",
       "  <tbody>\n",
       "    <tr>\n",
       "      <th>2011-01-01</th>\n",
       "      <td>0.004525</td>\n",
       "      <td>0.081448</td>\n",
       "    </tr>\n",
       "    <tr>\n",
       "      <th>2011-02-01</th>\n",
       "      <td>0.049774</td>\n",
       "      <td>0.095023</td>\n",
       "    </tr>\n",
       "    <tr>\n",
       "      <th>2011-03-01</th>\n",
       "      <td>0.099548</td>\n",
       "      <td>0.004525</td>\n",
       "    </tr>\n",
       "  </tbody>\n",
       "</table>\n",
       "</div>"
      ],
      "text/plain": [
       "               Sales  Marketing_Expense\n",
       "Date                                   \n",
       "2011-01-01  0.004525           0.081448\n",
       "2011-02-01  0.049774           0.095023\n",
       "2011-03-01  0.099548           0.004525"
      ]
     },
     "metadata": {},
     "output_type": "display_data"
    },
    {
     "data": {
      "text/html": [
       "<div>\n",
       "<style scoped>\n",
       "    .dataframe tbody tr th:only-of-type {\n",
       "        vertical-align: middle;\n",
       "    }\n",
       "\n",
       "    .dataframe tbody tr th {\n",
       "        vertical-align: top;\n",
       "    }\n",
       "\n",
       "    .dataframe thead th {\n",
       "        text-align: right;\n",
       "    }\n",
       "</style>\n",
       "<table border=\"1\" class=\"dataframe\">\n",
       "  <thead>\n",
       "    <tr style=\"text-align: right;\">\n",
       "      <th></th>\n",
       "      <th>target_sales</th>\n",
       "    </tr>\n",
       "    <tr>\n",
       "      <th>Date</th>\n",
       "      <th></th>\n",
       "    </tr>\n",
       "  </thead>\n",
       "  <tbody>\n",
       "    <tr>\n",
       "      <th>2011-01-01</th>\n",
       "      <td>0.049774</td>\n",
       "    </tr>\n",
       "    <tr>\n",
       "      <th>2011-02-01</th>\n",
       "      <td>0.099548</td>\n",
       "    </tr>\n",
       "    <tr>\n",
       "      <th>2011-03-01</th>\n",
       "      <td>0.045249</td>\n",
       "    </tr>\n",
       "  </tbody>\n",
       "</table>\n",
       "</div>"
      ],
      "text/plain": [
       "            target_sales\n",
       "Date                    \n",
       "2011-01-01      0.049774\n",
       "2011-02-01      0.099548\n",
       "2011-03-01      0.045249"
      ]
     },
     "metadata": {},
     "output_type": "display_data"
    }
   ],
   "source": [
    "X.rename(columns={0:'Sales', 1:'Marketing_Expense'},inplace=True)\n",
    "y.rename(columns={0:'target_sales'}, inplace=True)\n",
    "display(X.head(3))\n",
    "display(y.head(3))"
   ]
  },
  {
   "cell_type": "markdown",
   "metadata": {},
   "source": [
    "<br><h3> Sets creation <h3>"
   ]
  },
  {
   "cell_type": "code",
   "execution_count": 392,
   "metadata": {},
   "outputs": [
    {
     "name": "stdout",
     "output_type": "stream",
     "text": [
      "34 14\n"
     ]
    }
   ],
   "source": [
    "train_size = int(round(len(df)*0.7,0))\n",
    "test_size = int(round(len(df)*0.3,0))\n",
    "train_X = X[:train_size]\n",
    "train_y = y[: train_size]\n",
    "test_X = X[train_size:]\n",
    "test_y = y[train_size:]\n",
    "print(train_size,test_size)"
   ]
  },
  {
   "cell_type": "code",
   "execution_count": 393,
   "metadata": {},
   "outputs": [
    {
     "data": {
      "text/html": [
       "<div>\n",
       "<style scoped>\n",
       "    .dataframe tbody tr th:only-of-type {\n",
       "        vertical-align: middle;\n",
       "    }\n",
       "\n",
       "    .dataframe tbody tr th {\n",
       "        vertical-align: top;\n",
       "    }\n",
       "\n",
       "    .dataframe thead th {\n",
       "        text-align: right;\n",
       "    }\n",
       "</style>\n",
       "<table border=\"1\" class=\"dataframe\">\n",
       "  <thead>\n",
       "    <tr style=\"text-align: right;\">\n",
       "      <th></th>\n",
       "      <th>Sales</th>\n",
       "      <th>Marketing_Expense</th>\n",
       "    </tr>\n",
       "    <tr>\n",
       "      <th>Date</th>\n",
       "      <th></th>\n",
       "      <th></th>\n",
       "    </tr>\n",
       "  </thead>\n",
       "  <tbody>\n",
       "    <tr>\n",
       "      <th>2013-11-01</th>\n",
       "      <td>0.547511</td>\n",
       "      <td>0.796380</td>\n",
       "    </tr>\n",
       "    <tr>\n",
       "      <th>2013-12-01</th>\n",
       "      <td>0.846154</td>\n",
       "      <td>0.488688</td>\n",
       "    </tr>\n",
       "    <tr>\n",
       "      <th>2014-01-01</th>\n",
       "      <td>0.524887</td>\n",
       "      <td>0.588235</td>\n",
       "    </tr>\n",
       "    <tr>\n",
       "      <th>2014-02-01</th>\n",
       "      <td>0.624434</td>\n",
       "      <td>0.710407</td>\n",
       "    </tr>\n",
       "    <tr>\n",
       "      <th>2014-03-01</th>\n",
       "      <td>0.728507</td>\n",
       "      <td>0.574661</td>\n",
       "    </tr>\n",
       "  </tbody>\n",
       "</table>\n",
       "</div>"
      ],
      "text/plain": [
       "               Sales  Marketing_Expense\n",
       "Date                                   \n",
       "2013-11-01  0.547511           0.796380\n",
       "2013-12-01  0.846154           0.488688\n",
       "2014-01-01  0.524887           0.588235\n",
       "2014-02-01  0.624434           0.710407\n",
       "2014-03-01  0.728507           0.574661"
      ]
     },
     "metadata": {},
     "output_type": "display_data"
    },
    {
     "data": {
      "text/html": [
       "<div>\n",
       "<style scoped>\n",
       "    .dataframe tbody tr th:only-of-type {\n",
       "        vertical-align: middle;\n",
       "    }\n",
       "\n",
       "    .dataframe tbody tr th {\n",
       "        vertical-align: top;\n",
       "    }\n",
       "\n",
       "    .dataframe thead th {\n",
       "        text-align: right;\n",
       "    }\n",
       "</style>\n",
       "<table border=\"1\" class=\"dataframe\">\n",
       "  <thead>\n",
       "    <tr style=\"text-align: right;\">\n",
       "      <th></th>\n",
       "      <th>target_sales</th>\n",
       "    </tr>\n",
       "    <tr>\n",
       "      <th>Date</th>\n",
       "      <th></th>\n",
       "    </tr>\n",
       "  </thead>\n",
       "  <tbody>\n",
       "    <tr>\n",
       "      <th>2013-11-01</th>\n",
       "      <td>0.846154</td>\n",
       "    </tr>\n",
       "    <tr>\n",
       "      <th>2013-12-01</th>\n",
       "      <td>0.524887</td>\n",
       "    </tr>\n",
       "    <tr>\n",
       "      <th>2014-01-01</th>\n",
       "      <td>0.624434</td>\n",
       "    </tr>\n",
       "    <tr>\n",
       "      <th>2014-02-01</th>\n",
       "      <td>0.728507</td>\n",
       "    </tr>\n",
       "    <tr>\n",
       "      <th>2014-03-01</th>\n",
       "      <td>0.610860</td>\n",
       "    </tr>\n",
       "  </tbody>\n",
       "</table>\n",
       "</div>"
      ],
      "text/plain": [
       "            target_sales\n",
       "Date                    \n",
       "2013-11-01      0.846154\n",
       "2013-12-01      0.524887\n",
       "2014-01-01      0.624434\n",
       "2014-02-01      0.728507\n",
       "2014-03-01      0.610860"
      ]
     },
     "metadata": {},
     "output_type": "display_data"
    }
   ],
   "source": [
    "display(test_X.head())\n",
    "display(test_y.head())"
   ]
  },
  {
   "cell_type": "code",
   "execution_count": 396,
   "metadata": {},
   "outputs": [],
   "source": [
    "season = sm.tsa.seasonal_decompose(X['Sales'],model='add',period = 4)"
   ]
  },
  {
   "cell_type": "code",
   "execution_count": 397,
   "metadata": {},
   "outputs": [
    {
     "data": {
      "image/png": "[encoded data removed]",
      "text/plain": [
       "<Figure size 432x720 with 4 Axes>"
      ]
     },
     "metadata": {
      "needs_background": "light"
     },
     "output_type": "display_data"
    }
   ],
   "source": [
    "fig = season.plot()\n",
    "fig.set_figheight(10)\n",
    "\n"
   ]
  },
  {
   "cell_type": "markdown",
   "metadata": {},
   "source": [
    "<br><h3>We look for data stationary. We check with Augmented Dickey Fuller test (ADF)<h3>"
   ]
  },
  {
   "cell_type": "code",
   "execution_count": 398,
   "metadata": {},
   "outputs": [],
   "source": [
    "def test_adf(series,title=''):\n",
    "    dfout={}\n",
    "    dftest = sm.tsa.adfuller(series.dropna(), \n",
    "                             autolag = 'AIC',\n",
    "                             regression = 'ct')\n",
    "    for key,val in dftest[4].items():\n",
    "        dfout[f'critical value ({key})'] = val\n",
    "    if dftest[1]<=0.05:\n",
    "        print(\"Data is stationary for\",title)\n",
    "    else:\n",
    "        print(\"Data is not stationary for\", title)"
   ]
  },
  {
   "cell_type": "code",
   "execution_count": 399,
   "metadata": {},
   "outputs": [
    {
     "name": "stdout",
     "output_type": "stream",
     "text": [
      "Data is not stationary for target sales\n"
     ]
    }
   ],
   "source": [
    "y_test = y['target_sales'][:train_size].dropna()\n",
    "test_adf(y_test,\"target sales\")"
   ]
  },
  {
   "cell_type": "code",
   "execution_count": 400,
   "metadata": {},
   "outputs": [
    {
     "name": "stdout",
     "output_type": "stream",
     "text": [
      "Data is stationary for target sales\n"
     ]
    }
   ],
   "source": [
    "test_adf(y_test.diff(),\"target sales\")"
   ]
  },
  {
   "cell_type": "code",
   "execution_count": 401,
   "metadata": {},
   "outputs": [
    {
     "data": {
      "image/png": "[encoded data removed]",
      "text/plain": [
       "<Figure size 720x360 with 2 Axes>"
      ]
     },
     "metadata": {
      "needs_background": "light"
     },
     "output_type": "display_data"
    }
   ],
   "source": [
    "fig,ax = plt.subplots(2,1, figsize=(10,5))\n",
    "fig = sm.tsa.graphics.plot_acf(y_test, lags=12, ax=ax[0])\n",
    "fig = sm.tsa.graphics.plot_pacf(y_test, lags=12, ax=ax[1])"
   ]
  },
  {
   "cell_type": "code",
   "execution_count": 402,
   "metadata": {},
   "outputs": [
    {
     "name": "stdout",
     "output_type": "stream",
     "text": [
      "Performing stepwise search to minimize aic\n",
      " ARIMA(1,1,1)(0,0,0)[0] intercept   : AIC=-130.749, Time=0.39 sec\n",
      " ARIMA(0,1,0)(0,0,0)[0] intercept   : AIC=-118.606, Time=0.07 sec\n",
      " ARIMA(1,1,0)(0,0,0)[0] intercept   : AIC=-118.611, Time=0.25 sec\n",
      " ARIMA(0,1,1)(0,0,0)[0] intercept   : AIC=inf, Time=0.44 sec\n",
      " ARIMA(0,1,0)(0,0,0)[0]             : AIC=-120.266, Time=0.08 sec\n",
      " ARIMA(2,1,1)(0,0,0)[0] intercept   : AIC=-133.520, Time=0.72 sec\n",
      " ARIMA(2,1,0)(0,0,0)[0] intercept   : AIC=-133.216, Time=0.43 sec\n",
      " ARIMA(3,1,1)(0,0,0)[0] intercept   : AIC=-131.681, Time=0.58 sec\n",
      " ARIMA(2,1,2)(0,0,0)[0] intercept   : AIC=-132.768, Time=0.51 sec\n",
      " ARIMA(1,1,2)(0,0,0)[0] intercept   : AIC=inf, Time=0.47 sec\n",
      " ARIMA(3,1,0)(0,0,0)[0] intercept   : AIC=-132.573, Time=0.78 sec\n",
      " ARIMA(3,1,2)(0,0,0)[0] intercept   : AIC=-130.856, Time=0.60 sec\n",
      " ARIMA(2,1,1)(0,0,0)[0]             : AIC=-135.253, Time=0.37 sec\n",
      " ARIMA(1,1,1)(0,0,0)[0]             : AIC=-132.559, Time=0.60 sec\n",
      " ARIMA(2,1,0)(0,0,0)[0]             : AIC=-135.044, Time=0.25 sec\n",
      " ARIMA(3,1,1)(0,0,0)[0]             : AIC=-134.195, Time=0.71 sec\n",
      " ARIMA(2,1,2)(0,0,0)[0]             : AIC=inf, Time=0.53 sec\n",
      " ARIMA(1,1,0)(0,0,0)[0]             : AIC=-120.370, Time=0.18 sec\n",
      " ARIMA(1,1,2)(0,0,0)[0]             : AIC=inf, Time=0.50 sec\n",
      " ARIMA(3,1,0)(0,0,0)[0]             : AIC=-134.214, Time=0.36 sec\n",
      " ARIMA(3,1,2)(0,0,0)[0]             : AIC=-132.862, Time=0.54 sec\n",
      "\n",
      "Best model:  ARIMA(2,1,1)(0,0,0)[0]          \n",
      "Total fit time: 9.411 seconds\n"
     ]
    }
   ],
   "source": [
    "step_wise = auto_arima(train_y,\n",
    "                      train_X,\n",
    "                      start_p=1,\n",
    "                      start_q=1,\n",
    "                      max_p=12,\n",
    "                      max_q=12,\n",
    "                      d=1,\n",
    "                      max_d=12,\n",
    "                      trace=True,\n",
    "                      error_action='ignore',\n",
    "                      suppress_warnings=True,\n",
    "                      stepwise=True)"
   ]
  },
  {
   "cell_type": "code",
   "execution_count": 403,
   "metadata": {},
   "outputs": [
    {
     "data": {
      "text/html": [
       "<table class=\"simpletable\">\n",
       "<caption>SARIMAX Results</caption>\n",
       "<tr>\n",
       "  <th>Dep. Variable:</th>           <td>y</td>        <th>  No. Observations:  </th>    <td>34</td>   \n",
       "</tr>\n",
       "<tr>\n",
       "  <th>Model:</th>           <td>SARIMAX(2, 1, 1)</td> <th>  Log Likelihood     </th>  <td>73.626</td> \n",
       "</tr>\n",
       "<tr>\n",
       "  <th>Date:</th>            <td>Sun, 31 Jan 2021</td> <th>  AIC                </th> <td>-135.253</td>\n",
       "</tr>\n",
       "<tr>\n",
       "  <th>Time:</th>                <td>21:19:28</td>     <th>  BIC                </th> <td>-126.273</td>\n",
       "</tr>\n",
       "<tr>\n",
       "  <th>Sample:</th>             <td>01-01-2011</td>    <th>  HQIC               </th> <td>-132.231</td>\n",
       "</tr>\n",
       "<tr>\n",
       "  <th></th>                   <td>- 10-01-2013</td>   <th>                     </th>     <td> </td>   \n",
       "</tr>\n",
       "<tr>\n",
       "  <th>Covariance Type:</th>        <td>opg</td>       <th>                     </th>     <td> </td>   \n",
       "</tr>\n",
       "</table>\n",
       "<table class=\"simpletable\">\n",
       "<tr>\n",
       "          <td></td>             <th>coef</th>     <th>std err</th>      <th>z</th>      <th>P>|z|</th>  <th>[0.025</th>    <th>0.975]</th>  \n",
       "</tr>\n",
       "<tr>\n",
       "  <th>Sales</th>             <td>    0.0328</td> <td>    0.058</td> <td>    0.565</td> <td> 0.572</td> <td>   -0.081</td> <td>    0.146</td>\n",
       "</tr>\n",
       "<tr>\n",
       "  <th>Marketing_Expense</th> <td>    1.0216</td> <td>    0.061</td> <td>   16.622</td> <td> 0.000</td> <td>    0.901</td> <td>    1.142</td>\n",
       "</tr>\n",
       "<tr>\n",
       "  <th>ar.L1</th>             <td>   -0.2143</td> <td>    0.212</td> <td>   -1.012</td> <td> 0.312</td> <td>   -0.629</td> <td>    0.201</td>\n",
       "</tr>\n",
       "<tr>\n",
       "  <th>ar.L2</th>             <td>   -0.5283</td> <td>    0.254</td> <td>   -2.080</td> <td> 0.038</td> <td>   -1.026</td> <td>   -0.030</td>\n",
       "</tr>\n",
       "<tr>\n",
       "  <th>ma.L1</th>             <td>   -0.6221</td> <td>    0.265</td> <td>   -2.344</td> <td> 0.019</td> <td>   -1.142</td> <td>   -0.102</td>\n",
       "</tr>\n",
       "<tr>\n",
       "  <th>sigma2</th>            <td>    0.0006</td> <td>    0.000</td> <td>    3.388</td> <td> 0.001</td> <td>    0.000</td> <td>    0.001</td>\n",
       "</tr>\n",
       "</table>\n",
       "<table class=\"simpletable\">\n",
       "<tr>\n",
       "  <th>Ljung-Box (Q):</th>          <td>20.55</td> <th>  Jarque-Bera (JB):  </th> <td>0.71</td> \n",
       "</tr>\n",
       "<tr>\n",
       "  <th>Prob(Q):</th>                <td>0.94</td>  <th>  Prob(JB):          </th> <td>0.70</td> \n",
       "</tr>\n",
       "<tr>\n",
       "  <th>Heteroskedasticity (H):</th> <td>1.81</td>  <th>  Skew:              </th> <td>-0.35</td>\n",
       "</tr>\n",
       "<tr>\n",
       "  <th>Prob(H) (two-sided):</th>    <td>0.34</td>  <th>  Kurtosis:          </th> <td>2.82</td> \n",
       "</tr>\n",
       "</table><br/><br/>Warnings:<br/>[1] Covariance matrix calculated using the outer product of gradients (complex-step)."
      ],
      "text/plain": [
       "<class 'statsmodels.iolib.summary.Summary'>\n",
       "\"\"\"\n",
       "                               SARIMAX Results                                \n",
       "==============================================================================\n",
       "Dep. Variable:                      y   No. Observations:                   34\n",
       "Model:               SARIMAX(2, 1, 1)   Log Likelihood                  73.626\n",
       "Date:                Sun, 31 Jan 2021   AIC                           -135.253\n",
       "Time:                        21:19:28   BIC                           -126.273\n",
       "Sample:                    01-01-2011   HQIC                          -132.231\n",
       "                         - 10-01-2013                                         \n",
       "Covariance Type:                  opg                                         \n",
       "=====================================================================================\n",
       "                        coef    std err          z      P>|z|      [0.025      0.975]\n",
       "-------------------------------------------------------------------------------------\n",
       "Sales                 0.0328      0.058      0.565      0.572      -0.081       0.146\n",
       "Marketing_Expense     1.0216      0.061     16.622      0.000       0.901       1.142\n",
       "ar.L1                -0.2143      0.212     -1.012      0.312      -0.629       0.201\n",
       "ar.L2                -0.5283      0.254     -2.080      0.038      -1.026      -0.030\n",
       "ma.L1                -0.6221      0.265     -2.344      0.019      -1.142      -0.102\n",
       "sigma2                0.0006      0.000      3.388      0.001       0.000       0.001\n",
       "===================================================================================\n",
       "Ljung-Box (Q):                       20.55   Jarque-Bera (JB):                 0.71\n",
       "Prob(Q):                              0.94   Prob(JB):                         0.70\n",
       "Heteroskedasticity (H):               1.81   Skew:                            -0.35\n",
       "Prob(H) (two-sided):                  0.34   Kurtosis:                         2.82\n",
       "===================================================================================\n",
       "\n",
       "Warnings:\n",
       "[1] Covariance matrix calculated using the outer product of gradients (complex-step).\n",
       "\"\"\""
      ]
     },
     "execution_count": 403,
     "metadata": {},
     "output_type": "execute_result"
    }
   ],
   "source": [
    "step_wise.summary()"
   ]
  },
  {
   "cell_type": "markdown",
   "metadata": {},
   "source": [
    "<br><h3>Training the model SARIMAX with the p,d,q values estimate<h3>"
   ]
  },
  {
   "cell_type": "code",
   "execution_count": 404,
   "metadata": {},
   "outputs": [
    {
     "name": "stderr",
     "output_type": "stream",
     "text": [
      "C:\\Users\\LaurentPourchot\\anaconda3\\lib\\site-packages\\statsmodels\\tsa\\base\\tsa_model.py:159: ValueWarning: No frequency information was provided, so inferred frequency MS will be used.\n",
      "  warnings.warn('No frequency information was'\n",
      "C:\\Users\\LaurentPourchot\\anaconda3\\lib\\site-packages\\statsmodels\\tsa\\base\\tsa_model.py:159: ValueWarning: No frequency information was provided, so inferred frequency MS will be used.\n",
      "  warnings.warn('No frequency information was'\n"
     ]
    }
   ],
   "source": [
    "\n",
    "model = SARIMAX(train_y,\n",
    "               exog=train_X,\n",
    "               order=(2,1,1)\n",
    "              )\n"
   ]
  },
  {
   "cell_type": "code",
   "execution_count": 405,
   "metadata": {},
   "outputs": [],
   "source": [
    "results = model.fit()"
   ]
  },
  {
   "cell_type": "code",
   "execution_count": 406,
   "metadata": {},
   "outputs": [],
   "source": [
    "predictions = results.predict(start = train_size,\n",
    "                             end = train_size + test_size-1,\n",
    "                             exog = test_X)"
   ]
  },
  {
   "cell_type": "code",
   "execution_count": 407,
   "metadata": {},
   "outputs": [
    {
     "data": {
      "text/html": [
       "<div>\n",
       "<style scoped>\n",
       "    .dataframe tbody tr th:only-of-type {\n",
       "        vertical-align: middle;\n",
       "    }\n",
       "\n",
       "    .dataframe tbody tr th {\n",
       "        vertical-align: top;\n",
       "    }\n",
       "\n",
       "    .dataframe thead th {\n",
       "        text-align: right;\n",
       "    }\n",
       "</style>\n",
       "<table border=\"1\" class=\"dataframe\">\n",
       "  <thead>\n",
       "    <tr style=\"text-align: right;\">\n",
       "      <th></th>\n",
       "      <th>target_sales</th>\n",
       "    </tr>\n",
       "    <tr>\n",
       "      <th>Date</th>\n",
       "      <th></th>\n",
       "    </tr>\n",
       "  </thead>\n",
       "  <tbody>\n",
       "    <tr>\n",
       "      <th>2013-11-01</th>\n",
       "      <td>0.846154</td>\n",
       "    </tr>\n",
       "    <tr>\n",
       "      <th>2013-12-01</th>\n",
       "      <td>0.524887</td>\n",
       "    </tr>\n",
       "    <tr>\n",
       "      <th>2014-01-01</th>\n",
       "      <td>0.624434</td>\n",
       "    </tr>\n",
       "    <tr>\n",
       "      <th>2014-02-01</th>\n",
       "      <td>0.728507</td>\n",
       "    </tr>\n",
       "    <tr>\n",
       "      <th>2014-03-01</th>\n",
       "      <td>0.610860</td>\n",
       "    </tr>\n",
       "  </tbody>\n",
       "</table>\n",
       "</div>"
      ],
      "text/plain": [
       "            target_sales\n",
       "Date                    \n",
       "2013-11-01      0.846154\n",
       "2013-12-01      0.524887\n",
       "2014-01-01      0.624434\n",
       "2014-02-01      0.728507\n",
       "2014-03-01      0.610860"
      ]
     },
     "execution_count": 407,
     "metadata": {},
     "output_type": "execute_result"
    }
   ],
   "source": [
    "act = pd.DataFrame(y.iloc[train_size:,0])\n",
    "act.head()"
   ]
  },
  {
   "cell_type": "code",
   "execution_count": 408,
   "metadata": {},
   "outputs": [
    {
     "data": {
      "text/html": [
       "<div>\n",
       "<style scoped>\n",
       "    .dataframe tbody tr th:only-of-type {\n",
       "        vertical-align: middle;\n",
       "    }\n",
       "\n",
       "    .dataframe tbody tr th {\n",
       "        vertical-align: top;\n",
       "    }\n",
       "\n",
       "    .dataframe thead th {\n",
       "        text-align: right;\n",
       "    }\n",
       "</style>\n",
       "<table border=\"1\" class=\"dataframe\">\n",
       "  <thead>\n",
       "    <tr style=\"text-align: right;\">\n",
       "      <th></th>\n",
       "      <th>predictions</th>\n",
       "      <th>target</th>\n",
       "    </tr>\n",
       "    <tr>\n",
       "      <th>Date</th>\n",
       "      <th></th>\n",
       "      <th></th>\n",
       "    </tr>\n",
       "  </thead>\n",
       "  <tbody>\n",
       "    <tr>\n",
       "      <th>2013-11-01</th>\n",
       "      <td>0.828799</td>\n",
       "      <td>0.846154</td>\n",
       "    </tr>\n",
       "    <tr>\n",
       "      <th>2013-12-01</th>\n",
       "      <td>0.502491</td>\n",
       "      <td>0.524887</td>\n",
       "    </tr>\n",
       "    <tr>\n",
       "      <th>2014-01-01</th>\n",
       "      <td>0.612470</td>\n",
       "      <td>0.624434</td>\n",
       "    </tr>\n",
       "    <tr>\n",
       "      <th>2014-02-01</th>\n",
       "      <td>0.748011</td>\n",
       "      <td>0.728507</td>\n",
       "    </tr>\n",
       "    <tr>\n",
       "      <th>2014-03-01</th>\n",
       "      <td>0.601201</td>\n",
       "      <td>0.610860</td>\n",
       "    </tr>\n",
       "  </tbody>\n",
       "</table>\n",
       "</div>"
      ],
      "text/plain": [
       "            predictions    target\n",
       "Date                             \n",
       "2013-11-01     0.828799  0.846154\n",
       "2013-12-01     0.502491  0.524887\n",
       "2014-01-01     0.612470  0.624434\n",
       "2014-02-01     0.748011  0.728507\n",
       "2014-03-01     0.601201  0.610860"
      ]
     },
     "execution_count": 408,
     "metadata": {},
     "output_type": "execute_result"
    }
   ],
   "source": [
    "predictions = pd.DataFrame(predictions)\n",
    "predictions.index=test_X.index\n",
    "predictions['target']= act['target_sales']\n",
    "predictions.rename(columns={0:'predictions'},inplace=True)\n",
    "predictions.head()"
   ]
  },
  {
   "cell_type": "code",
   "execution_count": 413,
   "metadata": {},
   "outputs": [
    {
     "data": {
      "image/png": "[encoded data removed]",
      "text/plain": [
       "<Figure size 720x360 with 1 Axes>"
      ]
     },
     "metadata": {
      "needs_background": "light"
     },
     "output_type": "display_data"
    }
   ],
   "source": [
    "fig, ax = plt.subplots(figsize=(10, 5))\n",
    "ax.plot(predictions.index.values,\n",
    "        predictions['target'],\n",
    "        color='purple')\n",
    "ax.plot(predictions.index.values,\n",
    "        predictions['predictions'],\n",
    "        color='red')        \n",
    "    \n",
    "ax.set(xlabel=\"Date\",\n",
    "       ylabel=\"values\",\n",
    "       title=\"Forecast\")\n",
    "plt.show()"
   ]
  },
  {
   "cell_type": "markdown",
   "metadata": {},
   "source": [
    "<br><h2> Model Evaluation<h2>"
   ]
  },
  {
   "cell_type": "code",
   "execution_count": 450,
   "metadata": {},
   "outputs": [
    {
     "name": "stdout",
     "output_type": "stream",
     "text": [
      "0.0007880782641841807\n"
     ]
    }
   ],
   "source": [
    "pred_target = np.array(predictions['target'].values)\n",
    "pred_pred = np.array(predictions['predictions'].values)\n",
    "mse = mean_squared_error(pred_pred[:13],pred_target[:13])\n",
    "print(mse)\n"
   ]
  },
  {
   "cell_type": "code",
   "execution_count": 460,
   "metadata": {},
   "outputs": [],
   "source": [
    "\"\"\"\n",
    "We can scale back the prediction and target\n",
    "\"\"\"\n",
    "\n",
    "data_predictions =pd.DataFrame(sc.inverse_transform(predictions[['predictions']]))\n",
    "data_target = pd.DataFrame(sc.inverse_transform(predictions[['target']]))"
   ]
  }
 ],
 "metadata": {
  "kernelspec": {
   "display_name": "Python 3",
   "language": "python",
   "name": "python3"
  },
  "language_info": {
   "codemirror_mode": {
    "name": "ipython",
    "version": 3
   },
   "file_extension": ".py",
   "mimetype": "text/x-python",
   "name": "python",
   "nbconvert_exporter": "python",
   "pygments_lexer": "ipython3",
   "version": "3.8.3"
  }
 },
 "nbformat": 4,
 "nbformat_minor": 4
}
